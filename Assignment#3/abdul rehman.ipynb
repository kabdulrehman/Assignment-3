{
 "cells": [
  {
   "cell_type": "code",
   "execution_count": 3,
   "id": "cbb6eba8",
   "metadata": {},
   "outputs": [
    {
     "name": "stdout",
     "output_type": "stream",
     "text": [
      "Answer#1\n"
     ]
    }
   ],
   "source": [
    "print(\"Answer#1\")"
   ]
  },
  {
   "cell_type": "code",
   "execution_count": 4,
   "id": "da7b113d",
   "metadata": {},
   "outputs": [
    {
     "name": "stdout",
     "output_type": "stream",
     "text": [
      "Twinkle, twinkle, little star, \n",
      "        How I wonder what you are! \n",
      "               Up above the world so high,\n",
      "               Like a diamond in the sky.\n",
      "Twinkle,twinkle,little star, \n",
      "        How I wonder what you are\n"
     ]
    }
   ],
   "source": [
    "print(\"Twinkle, twinkle, little star, \\n        How I wonder what you are! \\n               Up above the world so high,\\n               Like a diamond in the sky.\\nTwinkle,twinkle,little star, \\n        How I wonder what you are\")"
   ]
  },
  {
   "cell_type": "code",
   "execution_count": 5,
   "id": "ea67526b",
   "metadata": {},
   "outputs": [
    {
     "name": "stdout",
     "output_type": "stream",
     "text": [
      "Answer#2\n"
     ]
    }
   ],
   "source": [
    "print(\"Answer#2\")"
   ]
  },
  {
   "cell_type": "code",
   "execution_count": 7,
   "id": "1bde0fbc",
   "metadata": {},
   "outputs": [
    {
     "name": "stdout",
     "output_type": "stream",
     "text": [
      "Enter python version you are using3\n",
      "Python version I am using is 3\n"
     ]
    }
   ],
   "source": [
    "a = \"Python version I am using is \";\n",
    "b = input(\"Enter python version you are using\");\n",
    "c = a + b\n",
    "print(c);"
   ]
  },
  {
   "cell_type": "code",
   "execution_count": 8,
   "id": "9dfd531c",
   "metadata": {},
   "outputs": [
    {
     "name": "stdout",
     "output_type": "stream",
     "text": [
      "Answer#3\n"
     ]
    }
   ],
   "source": [
    "print(\"Answer#3\")"
   ]
  },
  {
   "cell_type": "code",
   "execution_count": 10,
   "id": "ee2cc897",
   "metadata": {},
   "outputs": [
    {
     "name": "stdout",
     "output_type": "stream",
     "text": [
      "Enter ongoing date: 23rd, Oct, 2021\n",
      "Enter ongoing time: 04:48\n"
     ]
    }
   ],
   "source": [
    "Date = input(\"Enter ongoing date: \");\n",
    "Time = input(\"Enter ongoing time: \");"
   ]
  },
  {
   "cell_type": "code",
   "execution_count": 11,
   "id": "d194846c",
   "metadata": {},
   "outputs": [
    {
     "name": "stdout",
     "output_type": "stream",
     "text": [
      "Answer#4\n"
     ]
    }
   ],
   "source": [
    "print(\"Answer#4\")"
   ]
  },
  {
   "cell_type": "code",
   "execution_count": 12,
   "id": "a4baee97",
   "metadata": {},
   "outputs": [
    {
     "name": "stdout",
     "output_type": "stream",
     "text": [
      "enter the radius of circle 20\n",
      "1256.8\n"
     ]
    }
   ],
   "source": [
    "pi=3.142;\n",
    "r=int(input(\"enter the radius of circle \"));\n",
    "area = pi * r**2;\n",
    "print(area);\n"
   ]
  },
  {
   "cell_type": "code",
   "execution_count": 13,
   "id": "7ff8623f",
   "metadata": {},
   "outputs": [
    {
     "name": "stdout",
     "output_type": "stream",
     "text": [
      "Answer#5\n"
     ]
    }
   ],
   "source": [
    "print(\"Answer#5\")"
   ]
  },
  {
   "cell_type": "code",
   "execution_count": 15,
   "id": "762f8295",
   "metadata": {},
   "outputs": [
    {
     "name": "stdout",
     "output_type": "stream",
     "text": [
      " Enter your sir name: Khurram \n",
      " Enter your name: Abdul Rehman\n",
      "Khurram Abdul Rehman\n"
     ]
    }
   ],
   "source": [
    "a = input(\" Enter your sir name: \");\n",
    "b = input(\" Enter your name: \");\n",
    "c = a + b;\n",
    "print(c);"
   ]
  },
  {
   "cell_type": "code",
   "execution_count": 16,
   "id": "2796d30c",
   "metadata": {},
   "outputs": [
    {
     "name": "stdout",
     "output_type": "stream",
     "text": [
      "Answer#6\n"
     ]
    }
   ],
   "source": [
    "print(\"Answer#6\")"
   ]
  },
  {
   "cell_type": "code",
   "execution_count": 17,
   "id": "5c478c2f",
   "metadata": {},
   "outputs": [
    {
     "name": "stdout",
     "output_type": "stream",
     "text": [
      "value 1: 62\n",
      "value 2: 84\n",
      "146\n"
     ]
    }
   ],
   "source": [
    "a = int(input(\"value 1: \"));\n",
    "b = int(input(\"value 2: \"));\n",
    "c = a + b;\n",
    "print(c);"
   ]
  },
  {
   "cell_type": "code",
   "execution_count": 18,
   "id": "6f8b1214",
   "metadata": {},
   "outputs": [
    {
     "name": "stdout",
     "output_type": "stream",
     "text": [
      "Answer#7\n"
     ]
    }
   ],
   "source": [
    "print(\"Answer#7\")"
   ]
  },
  {
   "cell_type": "code",
   "execution_count": 20,
   "id": "b914ea4c",
   "metadata": {},
   "outputs": [
    {
     "name": "stdout",
     "output_type": "stream",
     "text": [
      "marks of English: 75\n",
      "marks of Maths: 89\n",
      "marks of Urdu: 66\n",
      "marks of Computer: 78\n",
      "marks of Physics: 68\n",
      "Grade A\n"
     ]
    }
   ],
   "source": [
    "English = int(input(\"marks of English: \"));\n",
    "Maths = int(input(\"marks of Maths: \"));\n",
    "Urdu = int(input(\"marks of Urdu: \"));\n",
    "Computer = int(input(\"marks of Computer: \"));\n",
    "Physics = int(input(\"marks of Physics: \"));\n",
    "Totalmarks = English + Maths + Urdu + Computer + Physics;\n",
    "percent = Totalmarks/500*100;\n",
    "if percent<100 and percent>80:\n",
    "    print(\"Grade A+\");\n",
    "elif percent<80 and percent>70:\n",
    "    print(\"Grade A\");\n",
    "elif percent<70 and percent>60:\n",
    "    print(\"Grade B\");\n",
    "elif percent<60 and percent>50:\n",
    "    print(\"Grade C\");\n",
    "elif percent<50 and percent>40:\n",
    "    print(\"Grade D\");\n",
    "elif percent<40 and percent>33:\n",
    "    print(\"Grade E\");\n",
    "elif percent<0 and percent>100:\n",
    "    print(\"you didnot write correct percentage\");\n",
    "else:\n",
    "    print(\"Fail\");"
   ]
  },
  {
   "cell_type": "code",
   "execution_count": 21,
   "id": "d0723ce8",
   "metadata": {},
   "outputs": [
    {
     "name": "stdout",
     "output_type": "stream",
     "text": [
      "Answer#8\n"
     ]
    }
   ],
   "source": [
    "print(\"Answer#8\")"
   ]
  },
  {
   "cell_type": "code",
   "execution_count": 25,
   "id": "1373dd66",
   "metadata": {},
   "outputs": [
    {
     "name": "stdout",
     "output_type": "stream",
     "text": [
      "enter value of c: 98\n",
      "even\n"
     ]
    }
   ],
   "source": [
    "a = 24;\n",
    "b = 33;\n",
    "c = int(input(\"enter value of c: \"));\n",
    "if c<a or c>3: \n",
    "    print(\"even\");\n",
    "else:\n",
    "    print(\"odd\");\n",
    "       "
   ]
  },
  {
   "cell_type": "code",
   "execution_count": 24,
   "id": "4a392486",
   "metadata": {},
   "outputs": [
    {
     "name": "stdout",
     "output_type": "stream",
     "text": [
      "Answer#9\n"
     ]
    }
   ],
   "source": [
    "print(\"Answer#9\")"
   ]
  },
  {
   "cell_type": "code",
   "execution_count": 26,
   "id": "9392a3b3",
   "metadata": {},
   "outputs": [
    {
     "name": "stdout",
     "output_type": "stream",
     "text": [
      "['a', 'b', 'c', 'd', 'e']\n"
     ]
    }
   ],
   "source": [
    "#list\n",
    "\n",
    "name = [\"a\",\"b\",\"c\",\"d\",\"e\"];\n",
    "print(name);"
   ]
  },
  {
   "cell_type": "code",
   "execution_count": 27,
   "id": "59d522cd",
   "metadata": {},
   "outputs": [
    {
     "name": "stdout",
     "output_type": "stream",
     "text": [
      "Answer#10\n"
     ]
    }
   ],
   "source": [
    "print(\"Answer#10\")"
   ]
  },
  {
   "cell_type": "code",
   "execution_count": 30,
   "id": "38ecfcdd",
   "metadata": {},
   "outputs": [
    {
     "name": "stdout",
     "output_type": "stream",
     "text": [
      "150\n"
     ]
    }
   ],
   "source": [
    "a = [10,20,30,40,50];\n",
    "b = sum(a);\n",
    "print(b);"
   ]
  },
  {
   "cell_type": "code",
   "execution_count": 31,
   "id": "9a5b4804",
   "metadata": {},
   "outputs": [
    {
     "name": "stdout",
     "output_type": "stream",
     "text": [
      "Answer#11\n"
     ]
    }
   ],
   "source": [
    "print(\"Answer#11\")"
   ]
  },
  {
   "cell_type": "code",
   "execution_count": 32,
   "id": "cc5a338c",
   "metadata": {},
   "outputs": [
    {
     "name": "stdout",
     "output_type": "stream",
     "text": [
      "e\n"
     ]
    }
   ],
   "source": [
    "a = [\"a\",\"b\",\"c\",\"d\",\"e\"];\n",
    "print(a[4]);"
   ]
  },
  {
   "cell_type": "code",
   "execution_count": 33,
   "id": "38ae3756",
   "metadata": {},
   "outputs": [
    {
     "name": "stdout",
     "output_type": "stream",
     "text": [
      "Answer#12\n"
     ]
    }
   ],
   "source": [
    "print(\"Answer#12\")"
   ]
  },
  {
   "cell_type": "code",
   "execution_count": 34,
   "id": "36c875e5",
   "metadata": {},
   "outputs": [
    {
     "name": "stdout",
     "output_type": "stream",
     "text": [
      "[10, 20, 30, 40, 50]\n"
     ]
    }
   ],
   "source": [
    "a =  [10,20,30,40,50,60,70,80,];\n",
    "b = a[:5];\n",
    "print(b);"
   ]
  },
  {
   "cell_type": "code",
   "execution_count": null,
   "id": "c4db0ff0",
   "metadata": {},
   "outputs": [],
   "source": []
  }
 ],
 "metadata": {
  "kernelspec": {
   "display_name": "Python 3",
   "language": "python",
   "name": "python3"
  },
  "language_info": {
   "codemirror_mode": {
    "name": "ipython",
    "version": 3
   },
   "file_extension": ".py",
   "mimetype": "text/x-python",
   "name": "python",
   "nbconvert_exporter": "python",
   "pygments_lexer": "ipython3",
   "version": "3.8.8"
  }
 },
 "nbformat": 4,
 "nbformat_minor": 5
}
